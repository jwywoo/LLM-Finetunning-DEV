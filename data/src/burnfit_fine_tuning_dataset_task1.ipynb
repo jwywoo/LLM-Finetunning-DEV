{
  "nbformat": 4,
  "nbformat_minor": 0,
  "metadata": {
    "colab": {
      "provenance": []
    },
    "kernelspec": {
      "name": "python3",
      "display_name": "Python 3"
    },
    "language_info": {
      "name": "python"
    }
  },
  "cells": [
    {
      "cell_type": "markdown",
      "source": [
        "# Data Loads and Settings"
      ],
      "metadata": {
        "id": "nYK2os15-CM-"
      }
    },
    {
      "cell_type": "code",
      "execution_count": null,
      "metadata": {
        "id": "SVTuKKxnwxs7",
        "colab": {
          "base_uri": "https://localhost:8080/"
        },
        "outputId": "63d6b01b-186b-4846-9580-de92f73e8d95"
      },
      "outputs": [
        {
          "output_type": "stream",
          "name": "stdout",
          "text": [
            "Drive already mounted at /content/drive; to attempt to forcibly remount, call drive.mount(\"/content/drive\", force_remount=True).\n"
          ]
        }
      ],
      "source": [
        "from google.colab import drive\n",
        "drive.mount('/content/drive')"
      ]
    },
    {
      "cell_type": "code",
      "source": [
        "import os\n",
        "import json\n",
        "import pandas as pd\n",
        "\n",
        "burnfit_dir = os.path.join(\"/content/drive/MyDrive\", \"Burnfit\")\n",
        "inputs = os.listdir(os.path.join(burnfit_dir, \"input\"))\n",
        "outputs = os.listdir(os.path.join(burnfit_dir, \"output\"))\n",
        "\n",
        "input_user_rm_csv = os.path.join(burnfit_dir, \"input\", \"input_user_rm.csv\")\n",
        "input_user_csv = os.path.join(burnfit_dir, \"input\", \"input_user.csv\")\n",
        "output_weight_rate_csv = os.path.join(burnfit_dir, \"output\", \"output_increase_rate.csv\")\n",
        "output_weekly_increase_rate_plan_csv = os.path.join(burnfit_dir, \"output\", \"output_weekly_increase_rate_plan.csv\")\n",
        "\n",
        "input_user_df = pd.read_csv(input_user_csv)\n",
        "input_user_rm_df = pd.read_csv(input_user_rm_csv)\n",
        "output_increase_rate_df = pd.read_csv(output_weight_rate_csv)\n",
        "output_weekly_increase_rate_plan_df = pd.read_csv(output_weekly_increase_rate_plan_csv)\n",
        "print(input_user_df.head())\n",
        "print(input_user_rm_df.head())\n",
        "print(output_increase_rate_df.head())\n",
        "print(output_weekly_increase_rate_plan_df.head())"
      ],
      "metadata": {
        "colab": {
          "base_uri": "https://localhost:8080/"
        },
        "collapsed": true,
        "id": "qs6vwFIveI6y",
        "outputId": "04b78e0c-345d-4cd9-a529-8ed13107a848"
      },
      "execution_count": null,
      "outputs": [
        {
          "output_type": "stream",
          "name": "stdout",
          "text": [
            "             id  운동경험  성별  운동목표\n",
            "0  example_0000     1  남성     4\n",
            "1  example_0001     2  남성     3\n",
            "2  example_0002     4  남성     2\n",
            "3  example_0003     1  남성     6\n",
            "4  example_0004     1  남성     4\n",
            "             id  벤치프레스    스쿼트  데드리프트 오버헤드프레스\n",
            "0  example_0000   30kg   30kg   30kg    30kg\n",
            "1  example_0001   60kg   90kg   70kg    30kg\n",
            "2  example_0002  110kg  125kg  110kg    60kg\n",
            "3  example_0003   30kg   30kg   30kg    30kg\n",
            "4  example_0004   30kg   30kg   30kg    30kg\n",
            "             id  init_weight_rate  increase_rate_week  increase_rate_set  \\\n",
            "0  example_0000                45                  10                  5   \n",
            "1  example_0001                55                  10                  5   \n",
            "2  example_0002                50                  10                  5   \n",
            "3  example_0003                55                   5                 10   \n",
            "4  example_0004                65                  10                  5   \n",
            "\n",
            "   deloading_rate  \n",
            "0              50  \n",
            "1              30  \n",
            "2              60  \n",
            "3              60  \n",
            "4              50  \n",
            "             id                          weekly_increase_rate_plan\n",
            "0  example_0000  Week1\\nSET1 45%x5\\nSET2 50%x5\\nSET3 55%x5+\\n\\n...\n",
            "1  example_0001  Week1\\nSET1 55%x5\\nSET2 60%x5\\nSET3 65%x5+\\n\\n...\n",
            "2  example_0002  Week1\\nSET1 50%x5\\nSET2 55%x5\\nSET3 60%x5+\\n\\n...\n",
            "3  example_0003  Week1\\nSET1 55%x5\\nSET2 65%x5\\nSET3 75%x5+\\n\\n...\n",
            "4  example_0004  Week1\\nSET1 65%x5\\nSET2 70%x5\\nSET3 75%x5+\\n\\n...\n"
          ]
        }
      ]
    },
    {
      "cell_type": "markdown",
      "source": [
        "# Weekly Increase Rate Plan Generation"
      ],
      "metadata": {
        "id": "ZLBWVGWQC9D6"
      }
    },
    {
      "cell_type": "code",
      "source": [
        "def weekly_increase_rate_plan_generator(init_weight_rate, increase_rate_week, increase_rate_set, deloading_rate):\n",
        "  current_weight = init_weight_rate\n",
        "  week1 = f\"Week1\\nSET1 {current_weight}%x5\\nSET2 {current_weight+increase_rate_set}%x5\\nSET3 {current_weight+2*increase_rate_set}%x5+\\n\"\n",
        "  current_weight+=increase_rate_week\n",
        "  week2 = f\"\\nWeek2\\nSET1 {current_weight}%x3\\nSET2 {current_weight+increase_rate_set}%x3\\nSET3 {current_weight+2*increase_rate_set}%x3+\\n\"\n",
        "  current_weight+=increase_rate_week\n",
        "  week3 = f\"\\nWeek3\\nSET1 {current_weight}%x5\\nSET2 {current_weight+increase_rate_set}%x3\\nSET3 {current_weight+2*increase_rate_set}%x1+\\n\"\n",
        "  week4 = f\"\\nWeek4\\nSET1 {deloading_rate}%x5\\nSET2 {deloading_rate+increase_rate_set}%x5\\nSET3 {deloading_rate+2*increase_rate_set}%x5\\n\"\n",
        "  return week1+week2+week3+week4"
      ],
      "metadata": {
        "id": "SCMZgH2Ufnsh"
      },
      "execution_count": null,
      "outputs": []
    },
    {
      "cell_type": "code",
      "source": [
        "weekly_increase_rate_plan_df = pd.DataFrame(columns=[\"id\", \"weekly_increase_rate_plan\"])\n",
        "weekly_increase_rate_plan_df[\"id\"] = output_increase_rate_df[\"id\"]\n",
        "\n",
        "for idx, row in output_increase_rate_df.iterrows():\n",
        "  weekly_increase_rate_plan_df.loc[idx, \"weekly_increase_rate_plan\"] = weekly_increase_rate_plan_generator(row[\"init_weight_rate\"],\n",
        "                                                                                                           row[\"increase_rate_week\"],\n",
        "                                                                                                           row[\"increase_rate_set\"],\n",
        "                                                                                                           row[\"deloading_rate\"])\n",
        "output_weekly_increase_rate_plan_csv = os.path.join(burnfit_dir, \"output\", \"output_weekly_increase_rate_plan.csv\")\n",
        "weekly_increase_rate_plan_df.to_csv(output_weekly_increase_rate_plan_csv, index=False)"
      ],
      "metadata": {
        "id": "txQywJUOf6wm"
      },
      "execution_count": null,
      "outputs": []
    },
    {
      "cell_type": "markdown",
      "source": [
        "# Json Generator\n"
      ],
      "metadata": {
        "id": "s5tOVHbp-KaO"
      }
    },
    {
      "cell_type": "code",
      "source": [
        "training_dir = os.path.join(burnfit_dir, \"training_dir\")\n",
        "training_jsonl = os.path.join(burnfit_dir, \"training_v1.jsonl\")\n",
        "print(training_jsonl)\n",
        "\n",
        "combined_df = input_user_df.merge(input_user_rm_df, on=\"id\") \\\n",
        "            .merge(output_increase_rate_df, on=\"id\") \\\n",
        "            .merge(output_weekly_increase_rate_plan_df, on=\"id\")\n",
        "\n",
        "print(combined_df.columns)\n",
        "\n",
        "with open(training_jsonl, \"w\", encoding=\"utf-8\") as f:\n",
        "  for _, row in combined_df.iterrows():\n",
        "    input_dict = {\n",
        "        \"운동경험\": row[\"운동경험\"],\n",
        "        \"성별\": row['성별'],\n",
        "        \"운동목표\": row['운동목표'],\n",
        "        \"1RM\": {\n",
        "            \"벤치프레스\": row['벤치프레스'],\n",
        "            \"스쿼트\": row['스쿼트'],\n",
        "            \"데드리프트\": row['데드리프트'],\n",
        "            \"오버헤드프레스\": row['오버헤드프레스']\n",
        "        }\n",
        "    }\n",
        "\n",
        "    output_dict = {\n",
        "        \"init_weight_rate\":row[\"init_weight_rate\"],\n",
        "        \"increase_rate_week\":row[\"increase_rate_week\"],\n",
        "        \"increase_rate_set\":row[\"increase_rate_set\"],\n",
        "        \"deloading_rate\":row[\"deloading_rate\"],\n",
        "        \"weekly_increase_rate_plan\":row[\"weekly_increase_rate_plan\"]\n",
        "    }\n",
        "\n",
        "    text = f\"<INSTRUCTION> 주어진 내용을 바탕으로 4주간의 무게 증량 계획을 생성하세요. \" \\\n",
        "                f\"<INPUT> {json.dumps(input_dict, ensure_ascii=False)} \" \\\n",
        "                f\"<OUTPUT> {json.dumps(output_dict, ensure_ascii=False)} <EOS>\"\n",
        "    f.write(json.dumps({\"text\": text}, ensure_ascii=False) + \"\\n\")\n",
        "    print(\"Index: \", _)\n",
        "    print(text)"
      ],
      "metadata": {
        "id": "85bxLYkrJXS_"
      },
      "execution_count": null,
      "outputs": []
    }
  ]
}